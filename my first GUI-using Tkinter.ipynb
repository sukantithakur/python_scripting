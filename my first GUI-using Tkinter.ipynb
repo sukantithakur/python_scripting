{
 "cells": [
  {
   "cell_type": "code",
   "execution_count": 1,
   "metadata": {},
   "outputs": [],
   "source": [
    "import tkinter"
   ]
  },
  {
   "cell_type": "code",
   "execution_count": 2,
   "metadata": {},
   "outputs": [],
   "source": [
    "from tkinter import Tk\n",
    "from tkinter import ttk\n",
    "from tkinter import *"
   ]
  },
  {
   "cell_type": "code",
   "execution_count": 3,
   "metadata": {},
   "outputs": [],
   "source": [
    "gui = Tk()\n",
    "gui.title('First GUI using python')\n",
    "ttk.Button(gui,text = \"hello world\").grid()\n",
    "gui.mainloop()"
   ]
  },
  {
   "cell_type": "code",
   "execution_count": 4,
   "metadata": {},
   "outputs": [],
   "source": [
    "# few importants features of GUI\n",
    "# Labels\n",
    "# Buttons\n",
    "# Frame\n",
    "# grid\n",
    "# radio button\n",
    "# check button"
   ]
  },
  {
   "cell_type": "code",
   "execution_count": 6,
   "metadata": {},
   "outputs": [],
   "source": [
    "# Labels\n",
    "gui = Tk()\n",
    "frame = Frame(gui)\n",
    "labelText=StringVar()\n",
    "label = Label(frame,textvariable = labelText)\n",
    "button = Button(frame,text = 'hi,i am button')\n",
    "labelText.set(\"hey! how are you\")\n",
    "label.pack()\n",
    "button.pack()\n",
    "frame.pack()\n",
    "gui.mainloop()"
   ]
  },
  {
   "cell_type": "code",
   "execution_count": 7,
   "metadata": {},
   "outputs": [],
   "source": [
    "# Buttons\n",
    "\n",
    "gui = Tk()\n",
    "frame = Frame(gui)\n",
    "Label(frame,text= \"hi\").pack(side = TOP,fill = X)\n",
    "Button(frame,text = 'B1').pack(side= BOTTOM,fill = X)\n",
    "frame.pack()\n",
    "gui.mainloop()"
   ]
  },
  {
   "cell_type": "code",
   "execution_count": 8,
   "metadata": {},
   "outputs": [],
   "source": [
    "# grid\n",
    "\n",
    "gui = Tk()\n",
    "Label(gui,text= \"Name\").grid(row = 0, column =0, sticky = N)\n",
    "Entry(gui,width = 50).grid(row =0, column =1)\n",
    "Button(gui,text = \"submit\").grid(row =0, column =3)\n",
    "gui.mainloop()"
   ]
  },
  {
   "cell_type": "code",
   "execution_count": 9,
   "metadata": {},
   "outputs": [],
   "source": [
    "# radio button\n",
    "\n",
    "gui = Tk()\n",
    "Label(gui,text = \"Name\").grid(row = 0,column = 0,sticky = N)\n",
    "Entry(gui,width = 50).grid(row = 0,column = 1)\n",
    "Button(gui,text = \"submit\").grid(row = 0,column =2)\n",
    "\n",
    "Label(gui,text =\"Gender\").grid(row = 1,column = 0,sticky = N)\n",
    "Radiobutton(gui,text = \"F\",value = 3).grid(row = 1,column = 1,sticky = N)\n",
    "Radiobutton(gui,text = \"M\",value =2).grid(row = 1,column = 2,sticky = N)\n",
    "\n",
    "gui.mainloop()"
   ]
  },
  {
   "cell_type": "code",
   "execution_count": 10,
   "metadata": {},
   "outputs": [],
   "source": [
    "# check button\n",
    "\n",
    "gui = Tk()\n",
    "Label(gui,text = \"Name\").grid(row = 0,column = 0,sticky = N)\n",
    "Entry(gui,width = 50).grid(row = 0,column = 1)\n",
    "Button(gui,text = \"submit\").grid(row = 0,column =2)\n",
    "\n",
    "Label(gui,text =\"Gender\").grid(row = 1,column = 0,sticky = N)\n",
    "Radiobutton(gui,text = \"F\",value = 1).grid(row = 1,column = 1,sticky = N)\n",
    "Radiobutton(gui,text = \"M\",value =2).grid(row = 1,column = 2,sticky = N)\n",
    "\n",
    "Label(gui,text = \"Read the terms & conditions\").grid(row= 2,column = 0,sticky = N)\n",
    "\n",
    "Checkbutton(gui,text = \"Yes\").grid(row = 2,column = 1,sticky = N)\n",
    "Checkbutton(gui,text= \"No\").grid(row = 2,column = 2,sticky=N)\n",
    "gui.mainloop()"
   ]
  },
  {
   "cell_type": "code",
   "execution_count": 15,
   "metadata": {},
   "outputs": [],
   "source": [
    "## GUI with arithmetic operation\n",
    "\n",
    "def square(event):\n",
    "    a= int(num1.get())\n",
    "    b = a*a\n",
    "    result.delete(0,\"end\")\n",
    "    result.insert(0,b)\n",
    "    \n",
    "gui = Tk()\n",
    "\n",
    "Label(gui,text = \"Find the square of a number\").pack()\n",
    "num1 = Entry(gui)\n",
    "num1.pack(side = LEFT)\n",
    "btn = Button(gui,text = \"square to\")\n",
    "btn.bind(\"<Button-1>\",square)\n",
    "btn.pack(side = LEFT)\n",
    "result = Entry(gui)\n",
    "result.pack(side = LEFT)\n",
    "gui.mainloop()"
   ]
  }
 ],
 "metadata": {
  "kernelspec": {
   "display_name": "Python 3",
   "language": "python",
   "name": "python3"
  },
  "language_info": {
   "codemirror_mode": {
    "name": "ipython",
    "version": 3
   },
   "file_extension": ".py",
   "mimetype": "text/x-python",
   "name": "python",
   "nbconvert_exporter": "python",
   "pygments_lexer": "ipython3",
   "version": "3.7.6"
  }
 },
 "nbformat": 4,
 "nbformat_minor": 4
}
